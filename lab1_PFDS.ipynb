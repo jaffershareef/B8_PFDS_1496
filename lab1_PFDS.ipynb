{
  "nbformat": 4,
  "nbformat_minor": 0,
  "metadata": {
    "colab": {
      "provenance": [],
      "authorship_tag": "ABX9TyPRQuJPvyfaipcBXlsAkKNC",
      "include_colab_link": true
    },
    "kernelspec": {
      "name": "python3",
      "display_name": "Python 3"
    },
    "language_info": {
      "name": "python"
    }
  },
  "cells": [
    {
      "cell_type": "markdown",
      "metadata": {
        "id": "view-in-github",
        "colab_type": "text"
      },
      "source": [
        "<a href=\"https://colab.research.google.com/github/jaffershareef/B8_PFDS_1496/blob/main/lab1_PFDS.ipynb\" target=\"_parent\"><img src=\"https://colab.research.google.com/assets/colab-badge.svg\" alt=\"Open In Colab\"/></a>"
      ]
    },
    {
      "cell_type": "code",
      "execution_count": 9,
      "metadata": {
        "colab": {
          "base_uri": "https://localhost:8080/"
        },
        "id": "xsoKXwXx_IHa",
        "outputId": "8a4ae9ea-8439-4836-ac4e-7659cb04c8ef"
      },
      "outputs": [
        {
          "output_type": "stream",
          "name": "stdout",
          "text": [
            "Enter a number (0 to 10): 5\n",
            "\n",
            "Starting factorial of 5\n",
            "\n",
            "factorial(5) called\n",
            "factorial(4) called\n",
            "factorial(3) called\n",
            "factorial(2) called\n",
            "factorial(1) called\n",
            "Returning 1 (base case)\n",
            "Returning 2 from factorial(2)\n",
            "Returning 6 from factorial(3)\n",
            "Returning 24 from factorial(4)\n",
            "Returning 120 from factorial(5)\n",
            "\n",
            "Factorial of 5 is: 120\n"
          ]
        }
      ],
      "source": [
        "def factorial(n):\n",
        "    print(f\"factorial({n}) called\")\n",
        "    if n == 0 or n == 1:\n",
        "        print(f\"Returning 1 (base case)\")\n",
        "        return 1\n",
        "    else:\n",
        "        result = n * factorial(n - 1)\n",
        "        print(f\"Returning {result} from factorial({n})\")\n",
        "        return result\n",
        "num = int(input(\"Enter a number (0 to 10): \"))\n",
        "if num < 0 or num > 10:\n",
        "    print(\"Please enter a number between 0 and 10\")\n",
        "else:\n",
        "    print(f\"\\nStarting factorial of {num}\\n\")\n",
        "    answer = factorial(num)\n",
        "    print(f\"\\nFactorial of {num} is: {answer}\")"
      ]
    }
  ]
}