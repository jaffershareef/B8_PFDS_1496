{
  "nbformat": 4,
  "nbformat_minor": 0,
  "metadata": {
    "colab": {
      "provenance": [],
      "authorship_tag": "ABX9TyNBaFAagKVKbOTMEyyAxyUm",
      "include_colab_link": true
    },
    "kernelspec": {
      "name": "python3",
      "display_name": "Python 3"
    },
    "language_info": {
      "name": "python"
    }
  },
  "cells": [
    {
      "cell_type": "markdown",
      "metadata": {
        "id": "view-in-github",
        "colab_type": "text"
      },
      "source": [
        "<a href=\"https://colab.research.google.com/github/jaffershareef/B8_PFDS_1496/blob/main/lab5.ipynb\" target=\"_parent\"><img src=\"https://colab.research.google.com/assets/colab-badge.svg\" alt=\"Open In Colab\"/></a>"
      ]
    },
    {
      "cell_type": "markdown",
      "source": [
        "** Question 1 **"
      ],
      "metadata": {
        "id": "fg3kymyk6HiX"
      }
    },
    {
      "cell_type": "code",
      "execution_count": 1,
      "metadata": {
        "id": "CMAJvYZ-2IgB"
      },
      "outputs": [],
      "source": [
        "import pandas as pd\n",
        "\n",
        "# Products Dataset\n",
        "products = pd.DataFrame({\n",
        "    'product_id': [101, 102, 103, 104, 105],\n",
        "    'product_name': ['Laptop', 'Mouse', 'Keyboard', 'Monitor', 'Printer'],\n",
        "    'category': ['Electronics', 'Accessories', 'Accessories', 'Electronics', 'Electronics'],\n",
        "    'price': [80000, 500, 1500, 12000, 6000]\n",
        "})\n",
        "\n",
        "# Sales Dataset\n",
        "sales = pd.DataFrame({\n",
        "    'sale_id': [1, 2, 3, 4, 5, 6, 7],\n",
        "    'product_id': [101, 102, 103, 104, 101, 105, 103],\n",
        "    'quantity': [1, 5, 3, 2, 2, 1, 2]\n",
        "})\n"
      ]
    },
    {
      "cell_type": "code",
      "source": [
        "# Inner Join\n",
        "merged_inner = pd.merge(sales, products, on='product_id', how='inner')\n",
        "print(\"Inner Join:\\n\", merged_inner)\n",
        "\n",
        "# Outer Join\n",
        "merged_outer = pd.merge(sales, products, on='product_id', how='outer')\n",
        "print(\"\\nOuter Join:\\n\", merged_outer)\n"
      ],
      "metadata": {
        "colab": {
          "base_uri": "https://localhost:8080/"
        },
        "id": "c2cxeeBS5PYb",
        "outputId": "c46e4d43-3e8c-42d2-8227-5c72b946c3ca"
      },
      "execution_count": 2,
      "outputs": [
        {
          "output_type": "stream",
          "name": "stdout",
          "text": [
            "Inner Join:\n",
            "    sale_id  product_id  quantity product_name     category  price\n",
            "0        1         101         1       Laptop  Electronics  80000\n",
            "1        2         102         5        Mouse  Accessories    500\n",
            "2        3         103         3     Keyboard  Accessories   1500\n",
            "3        4         104         2      Monitor  Electronics  12000\n",
            "4        5         101         2       Laptop  Electronics  80000\n",
            "5        6         105         1      Printer  Electronics   6000\n",
            "6        7         103         2     Keyboard  Accessories   1500\n",
            "\n",
            "Outer Join:\n",
            "    sale_id  product_id  quantity product_name     category  price\n",
            "0        1         101         1       Laptop  Electronics  80000\n",
            "1        5         101         2       Laptop  Electronics  80000\n",
            "2        2         102         5        Mouse  Accessories    500\n",
            "3        3         103         3     Keyboard  Accessories   1500\n",
            "4        7         103         2     Keyboard  Accessories   1500\n",
            "5        4         104         2      Monitor  Electronics  12000\n",
            "6        6         105         1      Printer  Electronics   6000\n"
          ]
        }
      ]
    },
    {
      "cell_type": "code",
      "source": [
        "# Add Revenue Column\n",
        "merged_inner['revenue'] = merged_inner['price'] * merged_inner['quantity']\n",
        "\n",
        "# Total Revenue\n",
        "total_revenue = merged_inner['revenue'].sum()\n",
        "\n",
        "# Average Product Price\n",
        "avg_price = products['price'].mean()\n",
        "\n",
        "# Product-wise Sales\n",
        "product_sales = merged_inner.groupby('product_name').agg(\n",
        "    total_quantity=('quantity', 'sum'),\n",
        "    total_revenue=('revenue', 'sum')\n",
        ")\n",
        "\n",
        "# Category-wise Analysis\n",
        "category_sales = merged_inner.groupby('category').agg(\n",
        "    total_quantity=('quantity', 'sum'),\n",
        "    total_revenue=('revenue', 'sum')\n",
        ")\n",
        "\n",
        "# Best-selling Category\n",
        "best_category = category_sales['total_revenue'].idxmax()\n"
      ],
      "metadata": {
        "id": "wBFdQpqq5XaP"
      },
      "execution_count": 3,
      "outputs": []
    },
    {
      "cell_type": "code",
      "source": [
        "print(\"\\nTotal Revenue:\", total_revenue)\n",
        "print(\"Average Product Price:\", avg_price)\n",
        "print(\"\\nProduct-wise Sales:\\n\", product_sales)\n",
        "print(\"\\nCategory-wise Sales:\\n\", category_sales)\n",
        "print(\"\\nBest-Selling Category:\", best_category)\n"
      ],
      "metadata": {
        "colab": {
          "base_uri": "https://localhost:8080/"
        },
        "id": "jSD1y2I55ctr",
        "outputId": "a563f6ef-b7b7-4e59-85dc-b3af8ac56f11"
      },
      "execution_count": 4,
      "outputs": [
        {
          "output_type": "stream",
          "name": "stdout",
          "text": [
            "\n",
            "Total Revenue: 280000\n",
            "Average Product Price: 20000.0\n",
            "\n",
            "Product-wise Sales:\n",
            "               total_quantity  total_revenue\n",
            "product_name                               \n",
            "Keyboard                   5           7500\n",
            "Laptop                     3         240000\n",
            "Monitor                    2          24000\n",
            "Mouse                      5           2500\n",
            "Printer                    1           6000\n",
            "\n",
            "Category-wise Sales:\n",
            "              total_quantity  total_revenue\n",
            "category                                  \n",
            "Accessories              10          10000\n",
            "Electronics               6         270000\n",
            "\n",
            "Best-Selling Category: Electronics\n"
          ]
        }
      ]
    },
    {
      "cell_type": "markdown",
      "source": [
        "** Question 2 **"
      ],
      "metadata": {
        "id": "JOc4qrkx6TBF"
      }
    },
    {
      "cell_type": "code",
      "source": [
        "import pandas as pd\n"
      ],
      "metadata": {
        "id": "hm33kWkP6bf7"
      },
      "execution_count": 5,
      "outputs": []
    },
    {
      "cell_type": "code",
      "source": [
        "teachers = pd.DataFrame({\n",
        "    'teacher_id': [1, 2, 3, 4, 5],\n",
        "    'teacher_name': ['Alice', 'Bob', 'Charlie', 'Diana', 'Eve'],\n",
        "    'department': ['CS', 'CS', 'ECE', 'ME', 'ECE']\n",
        "})\n"
      ],
      "metadata": {
        "id": "2-4L6-H_7g1n"
      },
      "execution_count": 6,
      "outputs": []
    },
    {
      "cell_type": "code",
      "source": [
        "courses = pd.DataFrame({\n",
        "    'course_id': ['C101', 'C102', 'C103', 'C104', 'C105', 'C106', 'C107'],\n",
        "    'course_name': ['Python', 'ML', 'Circuits', 'Mechanics', 'AI', 'Maths', 'Control Systems'],\n",
        "    'teacher_id': [1, 1, 3, 4, 2, 5, 3]\n",
        "})\n"
      ],
      "metadata": {
        "id": "sCyoZ6wN7ljc"
      },
      "execution_count": 7,
      "outputs": []
    },
    {
      "cell_type": "code",
      "source": [
        "inner_merged = pd.merge(courses, teachers, on='teacher_id', how='inner')\n",
        "print(\"📘 Inner Join Result:\")\n",
        "print(inner_merged)\n"
      ],
      "metadata": {
        "colab": {
          "base_uri": "https://localhost:8080/"
        },
        "id": "NKXxHLyZ7nW0",
        "outputId": "f476c6d6-a292-4fbc-87ae-8303a7965852"
      },
      "execution_count": 8,
      "outputs": [
        {
          "output_type": "stream",
          "name": "stdout",
          "text": [
            "📘 Inner Join Result:\n",
            "  course_id      course_name  teacher_id teacher_name department\n",
            "0      C101           Python           1        Alice         CS\n",
            "1      C102               ML           1        Alice         CS\n",
            "2      C103         Circuits           3      Charlie        ECE\n",
            "3      C104        Mechanics           4        Diana         ME\n",
            "4      C105               AI           2          Bob         CS\n",
            "5      C106            Maths           5          Eve        ECE\n",
            "6      C107  Control Systems           3      Charlie        ECE\n"
          ]
        }
      ]
    },
    {
      "cell_type": "code",
      "source": [
        "left_merged = pd.merge(courses, teachers, on='teacher_id', how='left')\n",
        "print(\"\\n📗 Left Join Result:\")\n",
        "print(left_merged)\n"
      ],
      "metadata": {
        "colab": {
          "base_uri": "https://localhost:8080/"
        },
        "id": "xFZMp-ju7ysV",
        "outputId": "06dd76fe-1e9b-4d68-9d52-a74840a92fe8"
      },
      "execution_count": 9,
      "outputs": [
        {
          "output_type": "stream",
          "name": "stdout",
          "text": [
            "\n",
            "📗 Left Join Result:\n",
            "  course_id      course_name  teacher_id teacher_name department\n",
            "0      C101           Python           1        Alice         CS\n",
            "1      C102               ML           1        Alice         CS\n",
            "2      C103         Circuits           3      Charlie        ECE\n",
            "3      C104        Mechanics           4        Diana         ME\n",
            "4      C105               AI           2          Bob         CS\n",
            "5      C106            Maths           5          Eve        ECE\n",
            "6      C107  Control Systems           3      Charlie        ECE\n"
          ]
        }
      ]
    },
    {
      "cell_type": "code",
      "source": [
        "courses_per_teacher = courses['teacher_id'].value_counts()\n",
        "average_courses = courses_per_teacher.mean()\n",
        "\n",
        "print(\"\\n📈 Average Courses per Teacher:\", round(average_courses, 2))\n"
      ],
      "metadata": {
        "colab": {
          "base_uri": "https://localhost:8080/"
        },
        "id": "tvRh1VWX72T2",
        "outputId": "d41f086d-e4f7-4322-8c51-c9135f1f67db"
      },
      "execution_count": 10,
      "outputs": [
        {
          "output_type": "stream",
          "name": "stdout",
          "text": [
            "\n",
            "📈 Average Courses per Teacher: 1.4\n"
          ]
        }
      ]
    },
    {
      "cell_type": "code",
      "source": [
        "department_workload = inner_merged.groupby('department').agg(\n",
        "    total_courses=('course_id', 'count'),\n",
        "    unique_teachers=('teacher_id', 'nunique')\n",
        ").reset_index()\n",
        "\n",
        "print(\"\\n📊 Department-wise Workload:\")\n",
        "print(department_workload)\n"
      ],
      "metadata": {
        "colab": {
          "base_uri": "https://localhost:8080/"
        },
        "id": "kypB94ZR76O3",
        "outputId": "3b59fd5d-7700-4ac2-b799-c428216fea41"
      },
      "execution_count": 11,
      "outputs": [
        {
          "output_type": "stream",
          "name": "stdout",
          "text": [
            "\n",
            "📊 Department-wise Workload:\n",
            "  department  total_courses  unique_teachers\n",
            "0         CS              3                2\n",
            "1        ECE              3                2\n",
            "2         ME              1                1\n"
          ]
        }
      ]
    }
  ]
}